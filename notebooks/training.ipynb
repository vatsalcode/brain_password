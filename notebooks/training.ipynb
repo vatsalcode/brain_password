{
  "nbformat": 4,
  "nbformat_minor": 0,
  "metadata": {
    "accelerator": "GPU",
    "colab": {
      "name": "final_code",
      "provenance": [],
      "collapsed_sections": [
        "r60TvOru-WTQ",
        "aeg2VY9q-aX_",
        "9wNBcy0RyKCR",
        "xbEc-wzihqtB",
        "V0TwqKIKpPyb",
        "ZnB0PdYFjkJK",
        "Z4ZJvswKDy0K",
        "kwFy_8Bg9qXZ",
        "Qvt02fki9uJ7"
      ],
      "machine_shape": "hm"
    },
    "kernelspec": {
      "display_name": "Python 3",
      "name": "python3"
    }
  },
  "cells": [
    {
      "cell_type": "markdown",
      "metadata": {
        "id": "r60TvOru-WTQ"
      },
      "source": [
        "# Imports & Config"
      ]
    },
    {
      "cell_type": "code",
      "metadata": {
        "id": "pYd2uE_kI6px",
        "colab": {
          "base_uri": "https://localhost:8080/"
        },
        "outputId": "dd640306-7e0e-474f-c57a-746b2887881b"
      },
      "source": [
        "%tensorflow_version 2.x\n",
        "import tensorflow as tf\n",
        "device_name = tf.test.gpu_device_name()\n",
        "if device_name != '/device:GPU:0':\n",
        "  raise SystemError('GPU device not found')\n",
        "print('Found GPU at: {}'.format(device_name))"
      ],
      "execution_count": null,
      "outputs": [
        {
          "output_type": "stream",
          "text": [
            "Found GPU at: /device:GPU:0\n"
          ],
          "name": "stdout"
        }
      ]
    },
    {
      "cell_type": "code",
      "metadata": {
        "id": "gQ4dK4xs3uL2",
        "colab": {
          "base_uri": "https://localhost:8080/"
        },
        "outputId": "f75531af-8184-442d-d0db-adb156786ef3"
      },
      "source": [
        "!pip install gsutil mne"
      ],
      "execution_count": null,
      "outputs": [
        {
          "output_type": "stream",
          "text": [
            "Collecting gsutil\n",
            "\u001b[?25l  Downloading https://files.pythonhosted.org/packages/fb/36/c96ed34197b4bd7999aa62aa6781901a5db74c6d82b5dabcfce62df08c84/gsutil-4.61.tar.gz (2.9MB)\n",
            "\u001b[K     |████████████████████████████████| 2.9MB 8.0MB/s \n",
            "\u001b[?25hCollecting mne\n",
            "\u001b[?25l  Downloading https://files.pythonhosted.org/packages/c2/29/7f38c7c99ca65fe4aac9054239d885c44ab7f9e8b4f65e9f2bfa489b0f38/mne-0.22.1-py3-none-any.whl (6.9MB)\n",
            "\u001b[K     |████████████████████████████████| 6.9MB 51.3MB/s \n",
            "\u001b[?25hCollecting argcomplete>=1.9.4\n",
            "  Downloading https://files.pythonhosted.org/packages/e3/d0/ee7fc6ceac8957196def9bfa3b955d02163058defd3edd51ef7b1ff2769e/argcomplete-1.12.2-py2.py3-none-any.whl\n",
            "Requirement already satisfied: crcmod>=1.7 in /usr/local/lib/python3.7/dist-packages (from gsutil) (1.7)\n",
            "Collecting fasteners>=0.14.1\n",
            "  Downloading https://files.pythonhosted.org/packages/78/20/c862d765287e9e8b29f826749ebae8775bdca50b2cb2ca079346d5fbfd76/fasteners-0.16-py2.py3-none-any.whl\n",
            "Collecting gcs-oauth2-boto-plugin>=2.7\n",
            "  Downloading https://files.pythonhosted.org/packages/f7/ab/3cc16742de84b76aa328c4b9e09fbf88447027827c12fb3913c5907be23b/gcs-oauth2-boto-plugin-2.7.tar.gz\n",
            "Collecting google-apitools>=0.5.30\n",
            "\u001b[?25l  Downloading https://files.pythonhosted.org/packages/19/da/aefc4cf4c168b5d875344cd9dddc77e3a2d11986b630251af5ce47dd2843/google-apitools-0.5.31.tar.gz (173kB)\n",
            "\u001b[K     |████████████████████████████████| 174kB 53.6MB/s \n",
            "\u001b[?25hCollecting httplib2>=0.18\n",
            "\u001b[?25l  Downloading https://files.pythonhosted.org/packages/15/dc/d14bce03f4bfd0214b90a3f556d7c96f75bb94ad597c816a641b962f22e9/httplib2-0.19.1-py3-none-any.whl (95kB)\n",
            "\u001b[K     |████████████████████████████████| 102kB 14.6MB/s \n",
            "\u001b[?25hCollecting google-reauth>=0.1.0\n",
            "  Downloading https://files.pythonhosted.org/packages/69/e1/67ffaa3a645b86318ce30717af7145070ebccec5eef5c623ae08b86129b8/google_reauth-0.1.1-py2.py3-none-any.whl\n",
            "Collecting mock==2.0.0\n",
            "\u001b[?25l  Downloading https://files.pythonhosted.org/packages/e6/35/f187bdf23be87092bd0f1200d43d23076cee4d0dec109f195173fd3ebc79/mock-2.0.0-py2.py3-none-any.whl (56kB)\n",
            "\u001b[K     |████████████████████████████████| 61kB 9.5MB/s \n",
            "\u001b[?25hCollecting monotonic>=1.4\n",
            "  Downloading https://files.pythonhosted.org/packages/9a/67/7e8406a29b6c45be7af7740456f7f37025f0506ae2e05fb9009a53946860/monotonic-1.6-py2.py3-none-any.whl\n",
            "Collecting pyOpenSSL>=0.13\n",
            "\u001b[?25l  Downloading https://files.pythonhosted.org/packages/b2/5e/06351ede29fd4899782ad335c2e02f1f862a887c20a3541f17c3fa1a3525/pyOpenSSL-20.0.1-py2.py3-none-any.whl (54kB)\n",
            "\u001b[K     |████████████████████████████████| 61kB 10.0MB/s \n",
            "\u001b[?25hCollecting retry_decorator>=1.0.0\n",
            "  Downloading https://files.pythonhosted.org/packages/6e/e6/bedc75b264cbcbf6e6d0e5071d96d739f540fc09be31744a7a8824c02a8e/retry_decorator-1.1.1.tar.gz\n",
            "Requirement already satisfied: six>=1.12.0 in /usr/local/lib/python3.7/dist-packages (from gsutil) (1.15.0)\n",
            "Requirement already satisfied: numpy>=1.11.3 in /usr/local/lib/python3.7/dist-packages (from mne) (1.19.5)\n",
            "Requirement already satisfied: scipy>=0.17.1 in /usr/local/lib/python3.7/dist-packages (from mne) (1.4.1)\n",
            "Requirement already satisfied: importlib-metadata<4,>=0.23; python_version == \"3.7\" in /usr/local/lib/python3.7/dist-packages (from argcomplete>=1.9.4->gsutil) (3.10.1)\n",
            "Collecting boto>=2.29.1\n",
            "\u001b[?25l  Downloading https://files.pythonhosted.org/packages/23/10/c0b78c27298029e4454a472a1919bde20cb182dab1662cec7f2ca1dcc523/boto-2.49.0-py2.py3-none-any.whl (1.4MB)\n",
            "\u001b[K     |████████████████████████████████| 1.4MB 50.5MB/s \n",
            "\u001b[?25hRequirement already satisfied: oauth2client>=2.2.0 in /usr/local/lib/python3.7/dist-packages (from gcs-oauth2-boto-plugin>=2.7->gsutil) (4.1.3)\n",
            "Requirement already satisfied: pyparsing<3,>=2.4.2 in /usr/local/lib/python3.7/dist-packages (from httplib2>=0.18->gsutil) (2.4.7)\n",
            "Collecting pyu2f\n",
            "  Downloading https://files.pythonhosted.org/packages/29/b5/c1209e6cb77647bc2c9a6a1a953355720f34f3b006b725e303c70f3c0786/pyu2f-0.1.5.tar.gz\n",
            "Collecting pbr>=0.11\n",
            "\u001b[?25l  Downloading https://files.pythonhosted.org/packages/fb/48/69046506f6ac61c1eaa9a0d42d22d54673b69e176d30ca98e3f61513e980/pbr-5.5.1-py2.py3-none-any.whl (106kB)\n",
            "\u001b[K     |████████████████████████████████| 112kB 54.8MB/s \n",
            "\u001b[?25hCollecting cryptography>=3.2\n",
            "\u001b[?25l  Downloading https://files.pythonhosted.org/packages/b2/26/7af637e6a7e87258b963f1731c5982fb31cd507f0d90d91836e446955d02/cryptography-3.4.7-cp36-abi3-manylinux2014_x86_64.whl (3.2MB)\n",
            "\u001b[K     |████████████████████████████████| 3.2MB 46.6MB/s \n",
            "\u001b[?25hRequirement already satisfied: zipp>=0.5 in /usr/local/lib/python3.7/dist-packages (from importlib-metadata<4,>=0.23; python_version == \"3.7\"->argcomplete>=1.9.4->gsutil) (3.4.1)\n",
            "Requirement already satisfied: typing-extensions>=3.6.4; python_version < \"3.8\" in /usr/local/lib/python3.7/dist-packages (from importlib-metadata<4,>=0.23; python_version == \"3.7\"->argcomplete>=1.9.4->gsutil) (3.7.4.3)\n",
            "Requirement already satisfied: rsa>=3.1.4 in /usr/local/lib/python3.7/dist-packages (from oauth2client>=2.2.0->gcs-oauth2-boto-plugin>=2.7->gsutil) (4.7.2)\n",
            "Requirement already satisfied: pyasn1-modules>=0.0.5 in /usr/local/lib/python3.7/dist-packages (from oauth2client>=2.2.0->gcs-oauth2-boto-plugin>=2.7->gsutil) (0.2.8)\n",
            "Requirement already satisfied: pyasn1>=0.1.7 in /usr/local/lib/python3.7/dist-packages (from oauth2client>=2.2.0->gcs-oauth2-boto-plugin>=2.7->gsutil) (0.4.8)\n",
            "Requirement already satisfied: cffi>=1.12 in /usr/local/lib/python3.7/dist-packages (from cryptography>=3.2->pyOpenSSL>=0.13->gsutil) (1.14.5)\n",
            "Requirement already satisfied: pycparser in /usr/local/lib/python3.7/dist-packages (from cffi>=1.12->cryptography>=3.2->pyOpenSSL>=0.13->gsutil) (2.20)\n",
            "Building wheels for collected packages: gsutil, gcs-oauth2-boto-plugin, google-apitools, retry-decorator, pyu2f\n",
            "  Building wheel for gsutil (setup.py) ... \u001b[?25l\u001b[?25hdone\n",
            "  Created wheel for gsutil: filename=gsutil-4.61-cp37-none-any.whl size=3709861 sha256=402986103e82b2d6ce9e9803ea5f183723524f6b9f44c29a489cb90ae69ab490\n",
            "  Stored in directory: /root/.cache/pip/wheels/21/c8/4c/b30f998197ac91cb58cbc8b63ff3654724f080391131fde96c\n",
            "  Building wheel for gcs-oauth2-boto-plugin (setup.py) ... \u001b[?25l\u001b[?25hdone\n",
            "  Created wheel for gcs-oauth2-boto-plugin: filename=gcs_oauth2_boto_plugin-2.7-cp37-none-any.whl size=23204 sha256=3770f615de784a1f2460f789fc1db891e1eb04cf46de90841ea2c57e7c875182\n",
            "  Stored in directory: /root/.cache/pip/wheels/2e/6b/7c/bd86832ceb17e0ae3d362c44f461832452eeaacddfcf9128ee\n",
            "  Building wheel for google-apitools (setup.py) ... \u001b[?25l\u001b[?25hdone\n",
            "  Created wheel for google-apitools: filename=google_apitools-0.5.31-cp37-none-any.whl size=131043 sha256=9b601156fbcbd864c9a5fa52c012032967771a5a88ceae00ec02f5437087a8c3\n",
            "  Stored in directory: /root/.cache/pip/wheels/3b/43/31/09a9dad88d3aec6fed2d63bd35dfc532fca372e2edec5af5bf\n",
            "  Building wheel for retry-decorator (setup.py) ... \u001b[?25l\u001b[?25hdone\n",
            "  Created wheel for retry-decorator: filename=retry_decorator-1.1.1-py2.py3-none-any.whl size=3642 sha256=6dc8021590337161c3e2e68fbf858ac090f85a0e6eb723b092bbc100f2ce90d6\n",
            "  Stored in directory: /root/.cache/pip/wheels/a1/70/30/4af820545aa19a0d96f969ef5ecebbb9743fd89cf00db43273\n",
            "  Building wheel for pyu2f (setup.py) ... \u001b[?25l\u001b[?25hdone\n",
            "  Created wheel for pyu2f: filename=pyu2f-0.1.5-cp37-none-any.whl size=39388 sha256=bff6fc1d8be96c8d363c9bb72bd7e0b4bc5d4ec0532f78ff1cb9ebabf662b245\n",
            "  Stored in directory: /root/.cache/pip/wheels/b9/74/4d/2a07cf37327596c99f570ebe983a9843cda0278ca36a27ad9d\n",
            "Successfully built gsutil gcs-oauth2-boto-plugin google-apitools retry-decorator pyu2f\n",
            "Installing collected packages: argcomplete, fasteners, boto, pyu2f, google-reauth, httplib2, cryptography, pyOpenSSL, retry-decorator, gcs-oauth2-boto-plugin, google-apitools, pbr, mock, monotonic, gsutil, mne\n",
            "  Found existing installation: httplib2 0.17.4\n",
            "    Uninstalling httplib2-0.17.4:\n",
            "      Successfully uninstalled httplib2-0.17.4\n",
            "Successfully installed argcomplete-1.12.2 boto-2.49.0 cryptography-3.4.7 fasteners-0.16 gcs-oauth2-boto-plugin-2.7 google-apitools-0.5.31 google-reauth-0.1.1 gsutil-4.61 httplib2-0.19.1 mne-0.22.1 mock-2.0.0 monotonic-1.6 pbr-5.5.1 pyOpenSSL-20.0.1 pyu2f-0.1.5 retry-decorator-1.1.1\n"
          ],
          "name": "stdout"
        },
        {
          "output_type": "display_data",
          "data": {
            "application/vnd.colab-display-data+json": {
              "pip_warning": {
                "packages": [
                  "httplib2"
                ]
              }
            }
          },
          "metadata": {
            "tags": []
          }
        }
      ]
    },
    {
      "cell_type": "code",
      "metadata": {
        "id": "eeEWIWeV3wld"
      },
      "source": [
        "!gsutil -m cp -r gs://eegmmidb-1.0.0.physionet.org ./"
      ],
      "execution_count": null,
      "outputs": []
    },
    {
      "cell_type": "code",
      "metadata": {
        "id": "1XIDiusiYeD9"
      },
      "source": [
        "import matplotlib.pyplot as plt\n",
        "import numpy as np\n",
        "import pandas as pd\n",
        "import sys\n",
        "import tensorflow as tf\n",
        "import os\n",
        "import zipfile\n",
        "import mne\n",
        "import cv2\n",
        "import imutils\n",
        "import tensorflow as tf\n",
        "\n",
        "from mne import Epochs, pick_types, events_from_annotations\n",
        "from mne.channels import make_standard_montage\n",
        "from mne.io import concatenate_raws, read_raw_edf\n",
        "from mne.datasets import eegbci\n",
        "from mne.decoding import CSP\n",
        "\n",
        "from matplotlib.ticker import ScalarFormatter,AutoMinorLocator\n",
        "\n",
        "from tensorflow.keras.layers import (\n",
        "  Input, Dense, Multiply, Activation, Lambda, Reshape, BatchNormalization,\n",
        "  LeakyReLU, Flatten, Dropout, Concatenate, Add,\n",
        "  Conv2D, MaxPooling2D, GlobalAveragePooling2D, AveragePooling2D,\n",
        ")\n",
        "from tensorflow.keras.regularizers import l2, l1, l1_l2\n",
        "from tensorflow.keras.optimizers import Adam\n",
        "from tensorflow.keras.models import Sequential, Model, load_model\n",
        "from tensorflow.keras import backend as K\n",
        "from tensorflow.keras.callbacks import LearningRateScheduler\n",
        "from tensorflow.keras.utils import Sequence, plot_model\n",
        "\n",
        "from sklearn.model_selection import train_test_split\n",
        "from sklearn.utils import shuffle\n",
        "from sklearn.preprocessing import OneHotEncoder\n",
        "from sklearn.metrics import classification_report, confusion_matrix, roc_curve\n",
        "from google.colab.patches import cv2_imshow\n",
        "from itertools import combinations"
      ],
      "execution_count": null,
      "outputs": []
    },
    {
      "cell_type": "code",
      "metadata": {
        "id": "ymTyboXigjVk"
      },
      "source": [
        "np.random.seed(0)"
      ],
      "execution_count": null,
      "outputs": []
    },
    {
      "cell_type": "code",
      "metadata": {
        "id": "EJ7mVokgPEUy"
      },
      "source": [
        "plt.style.use('/content/fig.mplstyle')"
      ],
      "execution_count": null,
      "outputs": []
    },
    {
      "cell_type": "code",
      "metadata": {
        "id": "vUDHdTHC3j8N"
      },
      "source": [
        "runs = [i for i in range(2, 15)]\n",
        "eegbci.load_data(1, runs)"
      ],
      "execution_count": null,
      "outputs": []
    },
    {
      "cell_type": "code",
      "metadata": {
        "id": "IibtWg-g3xEN"
      },
      "source": [
        "%mv eegmmidb-1.0.0.physionet.org ../../root/mne_data/MNE-eegbci-data/files/eegmmidb/"
      ],
      "execution_count": null,
      "outputs": []
    },
    {
      "cell_type": "code",
      "metadata": {
        "id": "N0mc63a93zxW"
      },
      "source": [
        "%rm -rf ../../root/mne_data/MNE-eegbci-data/files/eegmmidb/1.0.0/"
      ],
      "execution_count": null,
      "outputs": []
    },
    {
      "cell_type": "code",
      "metadata": {
        "id": "LjqzWOGJ30qA"
      },
      "source": [
        "%mv ../../root/mne_data/MNE-eegbci-data/files/eegmmidb/eegmmidb-1.0.0.physionet.org ../../root/mne_data/MNE-eegbci-data/files/eegmmidb/1.0.0"
      ],
      "execution_count": null,
      "outputs": []
    },
    {
      "cell_type": "code",
      "metadata": {
        "id": "AOq2ZPl8PPrr"
      },
      "source": [
        "NFFT = 160\n",
        "NOVERLAP = NFFT - 1\n",
        "FS = 160\n",
        "CMAP = \"viridis\"\n",
        "FIGSIZE = (0.54, 0.36)\n",
        "BATCH_SIZE = 16"
      ],
      "execution_count": null,
      "outputs": []
    },
    {
      "cell_type": "markdown",
      "metadata": {
        "id": "aeg2VY9q-aX_"
      },
      "source": [
        "# Dataset Loading"
      ]
    },
    {
      "cell_type": "code",
      "metadata": {
        "id": "ml1Hxh3vMl_w"
      },
      "source": [
        "def get_spectrogram(data, fs, nfft, noverlap, figsize, cmap):\n",
        "  fig, ax = plt.subplots(1, figsize=figsize)\n",
        "  fig.subplots_adjust(left=0,right=1,bottom=0,top=1)\n",
        "  fig.dpi = 100\n",
        "  ax.axis('off')\n",
        "  ax.grid(False)\n",
        "\n",
        "  pxx, freqs, bins, im = ax.specgram(x=data, Fs=fs, noverlap=noverlap, NFFT=nfft, cmap=cmap)\n",
        "  return fig2rgb(fig)\n",
        "\n",
        "def fig2rgb(fig):\n",
        "  fig.canvas.draw()\n",
        "  buf = fig.canvas.tostring_rgb()\n",
        "  width, height = fig.canvas.get_width_height()\n",
        "  plt.close(fig)\n",
        "  return np.frombuffer(buf, dtype=np.uint8).reshape(height, width, 3)\n",
        "\n",
        "def rgb2gray(rgb_img):\n",
        "  cv_rgb_img = cv2.cvtColor(rgb_img, cv2.COLOR_RGB2BGR)\n",
        "  cv_gray = cv2.cvtColor(cv_rgb_img, cv2.COLOR_BGR2GRAY)\n",
        "  return cv_gray\n",
        "\n",
        "def min_max_scale(spectrogram, f_min, f_max):\n",
        "  spec_std = (spectrogram - spectrogram.min()) / (spectrogram.max() - spectrogram.min())\n",
        "  spec_scaled = spec_std * (f_max - f_min) + f_min\n",
        "  return spec_scaled"
      ],
      "execution_count": null,
      "outputs": []
    },
    {
      "cell_type": "code",
      "metadata": {
        "id": "ka70zvhs4AJ9"
      },
      "source": [
        "def build_dataset(start = 1, end = 20, channel_index = 0):\n",
        "  dataset = {}\n",
        "\n",
        "  tmin, tmax = -1., 17.\n",
        "  event_id = dict(hands=2, feet=3)\n",
        "  runs = [6, 10, 14]\n",
        "  subjects = [i for i in range(start, end+1)]\n",
        "  Y = []\n",
        "  X = []\n",
        "  if end > 87 :\n",
        "    subjects.remove(88)\n",
        "    subjects.remove(92)\n",
        "    subjects.remove(100)\n",
        "  count = 0\n",
        "\n",
        "  for subject in subjects:\n",
        "    raw_fnames = eegbci.load_data(subject, runs)\n",
        "    raw = concatenate_raws([read_raw_edf(f, preload=True) for f in raw_fnames])\n",
        "    eegbci.standardize(raw)\n",
        "    montage = make_standard_montage('standard_1005')\n",
        "    raw.set_montage(montage)\n",
        "\n",
        "    # strip channel names of \".\" characters\n",
        "    raw.rename_channels(lambda x: x.strip('.'))\n",
        "\n",
        "    # Apply band-pass filter\n",
        "    raw.filter(7., 30., fir_design='firwin', skip_by_annotation='edge')\n",
        "\n",
        "    events, _ = events_from_annotations(raw, event_id=dict(T1=2, T2=3))\n",
        "\n",
        "    picks = pick_types(raw.info, meg=False, eeg=True, stim=False, eog=False, exclude='bads')\n",
        "\n",
        "    epochs = Epochs(raw, events, event_id, tmin, tmax, proj=True, picks=picks, baseline=None, preload=True)\n",
        "    epochs_train = epochs.copy().crop(tmin=1., tmax=2.)\n",
        "    labels = epochs.events[:, -1] - 2\n",
        "    x = np.array((epochs.get_data(picks='eeg')[:, channel_index, :]), dtype=np.float)\n",
        "    \n",
        "    for k in range(x.shape[0]):\n",
        "      spec = get_spectrogram(x[k,:], FS, NFFT, NOVERLAP, FIGSIZE, CMAP)\n",
        "      gray_spec = rgb2gray(spec)\n",
        "      scaled_spec = min_max_scale(gray_spec, 0.0, 1.0)\n",
        "\n",
        "      if scaled_spec.shape != (36, 54):\n",
        "        scaled_spec = cv2.resize(scaled_spec, (36, 54))\n",
        "\n",
        "      reshaped_spec = np.reshape(scaled_spec, (scaled_spec.shape[0], scaled_spec.shape[1], 1))\n",
        "      X.append(reshaped_spec)\n",
        "      Y.append(count)\n",
        "    count += 1\n",
        "\n",
        "  dataset['x'] = np.array(X)\n",
        "  dataset['y'] = np.array(Y)\n",
        "  return dataset"
      ],
      "execution_count": null,
      "outputs": []
    },
    {
      "cell_type": "code",
      "metadata": {
        "id": "TWZl-Z594kuI"
      },
      "source": [
        "dataset_train = build_dataset(start=1,end=81, channel_index=63)"
      ],
      "execution_count": null,
      "outputs": []
    },
    {
      "cell_type": "code",
      "metadata": {
        "id": "ncten1WEgVVn"
      },
      "source": [
        "dataset_test = build_dataset(start=82, end=109, channel_index=63)"
      ],
      "execution_count": null,
      "outputs": []
    },
    {
      "cell_type": "code",
      "metadata": {
        "id": "CNNryaBN4oYa",
        "colab": {
          "base_uri": "https://localhost:8080/"
        },
        "outputId": "54e46040-b1a0-4d7f-ce6f-053d683915a3"
      },
      "source": [
        "print(dataset_train[\"x\"].shape, dataset_train[\"x\"].dtype, dataset_train[\"y\"].shape, dataset_train[\"y\"].dtype)\n",
        "print(dataset_train[\"x\"].max(), dataset_train[\"x\"].min(), dataset_train[\"x\"].mean(), dataset_train[\"x\"].std())"
      ],
      "execution_count": null,
      "outputs": [
        {
          "output_type": "stream",
          "text": [
            "(3159, 36, 54, 1) float64 (3159,) int64\n",
            "1.0 0.0 0.4362473307708554 0.3353457333241286\n"
          ],
          "name": "stdout"
        }
      ]
    },
    {
      "cell_type": "code",
      "metadata": {
        "colab": {
          "base_uri": "https://localhost:8080/"
        },
        "id": "krGO5QGGhGoO",
        "outputId": "b8a08c40-dfba-4acc-b866-b1930f3ec08b"
      },
      "source": [
        "print(dataset_test[\"x\"].shape, dataset_test[\"x\"].dtype, dataset_test[\"y\"].shape, dataset_test[\"y\"].dtype)\n",
        "print(dataset_test[\"x\"].max(), dataset_test[\"x\"].min(), dataset_test[\"x\"].mean(), dataset_test[\"x\"].std())"
      ],
      "execution_count": null,
      "outputs": [
        {
          "output_type": "stream",
          "text": [
            "(975, 36, 54, 1) float64 (975,) int64\n",
            "1.0 0.0 0.43087830260654564 0.3378410312375981\n"
          ],
          "name": "stdout"
        }
      ]
    },
    {
      "cell_type": "code",
      "metadata": {
        "id": "myUFhOuWjgxs"
      },
      "source": [
        "def split_data_train(dataset, val_split = 0.2):\n",
        "  x_train = []\n",
        "  y_train = []\n",
        "  x_val = []\n",
        "  y_val = []\n",
        "  \n",
        "  x = dataset[\"x\"]\n",
        "  y = dataset[\"y\"]\n",
        "  no_of_classes = len(np.unique(y))\n",
        "  for i in range(no_of_classes):\n",
        "    subject_idx = np.where(y == i)\n",
        "    idx = subject_idx[0]\n",
        "\n",
        "    val_count = int(val_split*len(idx))\n",
        "    \n",
        "    val_idx = np.random.choice(idx, size=val_count, replace=False)\n",
        "    for k in val_idx:\n",
        "      idx = np.delete(idx, np.argwhere(idx == k))\n",
        "    \n",
        "    \n",
        "    for j in val_idx:\n",
        "      x_val.append(x[j])\n",
        "      y_val.append(y[j])\n",
        "    \n",
        "    \n",
        "    for j in idx:\n",
        "      x_train.append(x[j])\n",
        "      y_train.append(y[j])\n",
        "        \n",
        "  x_train, y_train = np.array(x_train), np.array(y_train)\n",
        "  x_val, y_val = np.array(x_val), np.array(y_val)\n",
        "  \n",
        "  x_train, y_train = shuffle(x_train, y_train)\n",
        "  x_val, y_val = shuffle(x_val, y_val)\n",
        "  \n",
        "  return (x_train, y_train, x_val, y_val)"
      ],
      "execution_count": null,
      "outputs": []
    },
    {
      "cell_type": "markdown",
      "metadata": {
        "id": "Q5-5tv-0SKKN"
      },
      "source": [
        "Use channel 22, 55 and 63"
      ]
    },
    {
      "cell_type": "code",
      "metadata": {
        "id": "PRuudUl7pUB_",
        "colab": {
          "base_uri": "https://localhost:8080/"
        },
        "outputId": "27fca54d-99f7-4052-dcfb-22a6b91e01c6"
      },
      "source": [
        "x_train, y_train, x_val, y_val = split_data_train(dataset_train, 0.35)\n",
        "print(x_train.shape, y_train.shape, x_val.shape, y_val.shape)"
      ],
      "execution_count": null,
      "outputs": [
        {
          "output_type": "stream",
          "text": [
            "(2106, 36, 54, 1) (2106,) (1053, 36, 54, 1) (1053,)\n"
          ],
          "name": "stdout"
        }
      ]
    },
    {
      "cell_type": "code",
      "metadata": {
        "colab": {
          "base_uri": "https://localhost:8080/"
        },
        "id": "TtOtRVkThmwM",
        "outputId": "c52b317b-d1a9-424f-b67f-94fd087464ea"
      },
      "source": [
        "x_test, y_test = shuffle(dataset_test[\"x\"], dataset_test[\"y\"])\n",
        "print(x_test.shape, y_test.shape)"
      ],
      "execution_count": null,
      "outputs": [
        {
          "output_type": "stream",
          "text": [
            "(975, 36, 54, 1) (975,)\n"
          ],
          "name": "stdout"
        }
      ]
    },
    {
      "cell_type": "markdown",
      "metadata": {
        "id": "9wNBcy0RyKCR"
      },
      "source": [
        "## Make Pairs"
      ]
    },
    {
      "cell_type": "code",
      "metadata": {
        "id": "EfuqG2x7MtYH"
      },
      "source": [
        "def make_pairs(data, labels):\n",
        "  pair_signals = []\n",
        "  pair_subjects = []\n",
        "\n",
        "  no_of_classes = len(np.unique(labels))\n",
        "  idx = [np.where(labels == i)[0] for i in range(0, no_of_classes)]\n",
        "\n",
        "  for person in idx:\n",
        "    positive_combinations = combinations(person, 2)\n",
        "    for pair in positive_combinations:\n",
        "      signal_1_idx = pair[0]\n",
        "      signal_2_idx = pair[1] \n",
        "      current_signal = data[signal_1_idx]\n",
        "      subject = labels[signal_1_idx]\n",
        "      pos_signal = data[signal_2_idx]\n",
        "      pair_signals.append([current_signal, pos_signal])\n",
        "      pair_subjects.append(0.0)\n",
        "      \n",
        "      neg_idx = np.where(labels != subject)[0]\n",
        "      neg_signal = data[np.random.choice(neg_idx)]\n",
        "      pair_signals.append([current_signal, neg_signal])\n",
        "      pair_subjects.append(1.0)\n",
        "\n",
        "  return (np.array(pair_signals), np.array(pair_subjects))"
      ],
      "execution_count": null,
      "outputs": []
    },
    {
      "cell_type": "code",
      "metadata": {
        "id": "pLEhNeb1egm6"
      },
      "source": [
        "(pair_train, label_train) = make_pairs(x_train, y_train)\n",
        "(pair_val, label_val) = make_pairs(x_val, y_val)\n",
        "(pair_test, label_test) = make_pairs(x_test, y_test)"
      ],
      "execution_count": null,
      "outputs": []
    },
    {
      "cell_type": "code",
      "metadata": {
        "id": "_KIiFeAAOHzV",
        "colab": {
          "base_uri": "https://localhost:8080/"
        },
        "outputId": "47b3fc53-59ec-42a1-ecef-89d5268c90a2"
      },
      "source": [
        "print(\"Training data: \", pair_train.shape, label_train.shape)\n",
        "print(\"Validation data: \", pair_val.shape, label_val.shape)\n",
        "print(\"Testing data: \", pair_test.shape, label_test.shape)"
      ],
      "execution_count": null,
      "outputs": [
        {
          "output_type": "stream",
          "text": [
            "Training data:  (52650, 2, 36, 54, 1) (52650,)\n",
            "Validation data:  (12636, 2, 36, 54, 1) (12636,)\n",
            "Testing data:  (37050, 2, 36, 54, 1) (37050,)\n"
          ],
          "name": "stdout"
        }
      ]
    },
    {
      "cell_type": "markdown",
      "metadata": {
        "id": "xbEc-wzihqtB"
      },
      "source": [
        "# Distances"
      ]
    },
    {
      "cell_type": "code",
      "metadata": {
        "id": "cc3NJVCgkNVw"
      },
      "source": [
        "def euclidean_distance(vects):\n",
        "  (p , q) = vects\n",
        "  sum = K.square(p - q)\n",
        "  return K.sqrt(K.maximum(sum, K.epsilon()))\n",
        " \n",
        "def manhattan_distance(vects):\n",
        "  (p, q) = vects\n",
        "  return K.abs(p - q)\n",
        "\n",
        "SQRT2 = K.sqrt(K.constant(2.0))\n",
        "\n",
        "def hellinger_distance(vects):\n",
        "  (p, q) = vects\n",
        "  # return K.sqrt(K.sum(K.square(p - q), axis=1, keepdims=True)) / SQRT2\n",
        "  # return K.square(p - q) / SQRT2\n",
        "  return K.sqrt(K.maximum(K.square(K.sqrt(p) - K.sqrt(q)), K.epsilon())) / SQRT2"
      ],
      "execution_count": null,
      "outputs": []
    },
    {
      "cell_type": "markdown",
      "metadata": {
        "id": "V0TwqKIKpPyb"
      },
      "source": [
        "# Loss & Accuracy"
      ]
    },
    {
      "cell_type": "code",
      "metadata": {
        "id": "KhnP5O4TpTmk"
      },
      "source": [
        "def contrastive_loss(y_true, y_pred):\n",
        "  margin = 1.0\n",
        "  return K.mean((1.0 - y_true) * K.square(y_pred) + (y_true) * K.square(K.maximum(margin - y_pred, 0.0)))\n",
        "\n",
        "def custom_acc(y_true, y_pred):\n",
        "  return K.mean(K.equal(y_true, K.cast(y_pred > 0.5, y_true.dtype)))"
      ],
      "execution_count": null,
      "outputs": []
    },
    {
      "cell_type": "markdown",
      "metadata": {
        "id": "ZnB0PdYFjkJK"
      },
      "source": [
        "# Model Building"
      ]
    },
    {
      "cell_type": "markdown",
      "metadata": {
        "id": "Z4ZJvswKDy0K"
      },
      "source": [
        "## Sequential"
      ]
    },
    {
      "cell_type": "code",
      "metadata": {
        "id": "8rqJ1IVdD2ff"
      },
      "source": [
        "def build_sequential(cnn_input=None):\n",
        "  x = Conv2D(filters=64, kernel_size=(3,3), padding=\"same\", activation=\"relu\")(cnn_input)\n",
        "  x = BatchNormalization()(x)\n",
        "\n",
        "  x = MaxPooling2D(pool_size=(2,2), strides=(2,2))(x)\n",
        "\n",
        "  x = Conv2D(filters=128, kernel_size=(3,3), padding=\"same\", activation=\"relu\")(x)\n",
        "  x = BatchNormalization()(x)\n",
        "\n",
        "  x = MaxPooling2D(pool_size=(2,2), strides=(2,2))(x)\n",
        "\n",
        "  x = Conv2D(filters=256, kernel_size=(3,3), padding=\"same\", activation=\"relu\")(x)\n",
        "  x = BatchNormalization()(x)\n",
        "\n",
        "  x = GlobalAveragePooling2D()(x)\n",
        "\n",
        "  # x = Dropout(0.2)(x)\n",
        "\n",
        "  x = Activation(\"sigmoid\")(x)\n",
        "  return x"
      ],
      "execution_count": null,
      "outputs": []
    },
    {
      "cell_type": "code",
      "metadata": {
        "id": "oXB3d5YYvaLx"
      },
      "source": [
        "def build_model(height, width, channels, model_type, distance_metric):\n",
        "  model_types = {\n",
        "    \"sequential\": build_sequential,\n",
        "  }\n",
        "\n",
        "  distance_metrics = {\n",
        "    \"euclidean\": euclidean_distance,\n",
        "    \"manhattan\": manhattan_distance,\n",
        "    \"hellinger\": hellinger_distance,\n",
        "  }\n",
        "\n",
        "  input_shape=(height, width, channels)\n",
        "  \n",
        "  # Siamese Input ----------------------------------------------------------------------------\n",
        "  siamese_left_input = Input(shape=input_shape)\n",
        "  siamese_right_input = Input(shape=input_shape)\n",
        "  # ------------------------------------------------------------------------------------------\n",
        "\n",
        "  # CNN --------------------------------------------------------------------------------------\n",
        "  cnn_input = Input(shape=input_shape)\n",
        "  cnn_output = model_types[model_type](cnn_input)\n",
        "  cnn_model = Model(inputs=cnn_input, outputs=cnn_output)\n",
        "  # -------------------------------------------------------------------------------------------\n",
        "\n",
        "  # Siamese Output-----------------------------------------------------------------------------\n",
        "  encoded_l = cnn_model(siamese_left_input)\n",
        "  encoded_r = cnn_model(siamese_right_input)\n",
        "\n",
        "  distance = Lambda(distance_metrics[distance_metric])([encoded_l, encoded_r])\n",
        "\n",
        "  drop = Dropout(0.4)(distance)\n",
        "\n",
        "  dense = Dense(64)(drop)\n",
        "\n",
        "  siamese_output = Dense(1, activation=\"sigmoid\")(dense)\n",
        "  siamese_net = Model(inputs=[siamese_left_input, siamese_right_input], outputs=siamese_output)\n",
        "  # -------------------------------------------------------------------------------------------\n",
        "\n",
        "  return siamese_net, cnn_model"
      ],
      "execution_count": null,
      "outputs": []
    },
    {
      "cell_type": "code",
      "metadata": {
        "id": "Yl0e3D-Wl5Pq",
        "colab": {
          "base_uri": "https://localhost:8080/"
        },
        "outputId": "2ed41822-9138-448b-dd04-1cd9c63e3f46"
      },
      "source": [
        "model, cnn_model = build_model(36, 54, 1, \"sequential\", \"hellinger\")\n",
        "model.summary()Code for Architecture of Convolutional Siamese Network using Keras\n",
        "cnn_model.summary()"
      ],
      "execution_count": null,
      "outputs": [
        {
          "output_type": "stream",
          "text": [
            "Model: \"model_5\"\n",
            "__________________________________________________________________________________________________\n",
            "Layer (type)                    Output Shape         Param #     Connected to                     \n",
            "==================================================================================================\n",
            "input_7 (InputLayer)            [(None, 36, 54, 1)]  0                                            \n",
            "__________________________________________________________________________________________________\n",
            "input_8 (InputLayer)            [(None, 36, 54, 1)]  0                                            \n",
            "__________________________________________________________________________________________________\n",
            "model_4 (Functional)            (None, 256)          371456      input_7[0][0]                    \n",
            "                                                                 input_8[0][0]                    \n",
            "__________________________________________________________________________________________________\n",
            "lambda_2 (Lambda)               (None, 256)          0           model_4[0][0]                    \n",
            "                                                                 model_4[1][0]                    \n",
            "__________________________________________________________________________________________________\n",
            "dropout_2 (Dropout)             (None, 256)          0           lambda_2[0][0]                   \n",
            "__________________________________________________________________________________________________\n",
            "dense_4 (Dense)                 (None, 64)           16448       dropout_2[0][0]                  \n",
            "__________________________________________________________________________________________________\n",
            "dense_5 (Dense)                 (None, 1)            65          dense_4[0][0]                    \n",
            "==================================================================================================\n",
            "Total params: 387,969\n",
            "Trainable params: 387,073\n",
            "Non-trainable params: 896\n",
            "__________________________________________________________________________________________________\n",
            "Model: \"model_4\"\n",
            "_________________________________________________________________\n",
            "Layer (type)                 Output Shape              Param #   \n",
            "=================================================================\n",
            "input_9 (InputLayer)         [(None, 36, 54, 1)]       0         \n",
            "_________________________________________________________________\n",
            "conv2d_6 (Conv2D)            (None, 36, 54, 64)        640       \n",
            "_________________________________________________________________\n",
            "batch_normalization_6 (Batch (None, 36, 54, 64)        256       \n",
            "_________________________________________________________________\n",
            "max_pooling2d_4 (MaxPooling2 (None, 18, 27, 64)        0         \n",
            "_________________________________________________________________\n",
            "conv2d_7 (Conv2D)            (None, 18, 27, 128)       73856     \n",
            "_________________________________________________________________\n",
            "batch_normalization_7 (Batch (None, 18, 27, 128)       512       \n",
            "_________________________________________________________________\n",
            "max_pooling2d_5 (MaxPooling2 (None, 9, 13, 128)        0         \n",
            "_________________________________________________________________\n",
            "conv2d_8 (Conv2D)            (None, 9, 13, 256)        295168    \n",
            "_________________________________________________________________\n",
            "batch_normalization_8 (Batch (None, 9, 13, 256)        1024      \n",
            "_________________________________________________________________\n",
            "global_average_pooling2d_2 ( (None, 256)               0         \n",
            "_________________________________________________________________\n",
            "activation_2 (Activation)    (None, 256)               0         \n",
            "=================================================================\n",
            "Total params: 371,456\n",
            "Trainable params: 370,560\n",
            "Non-trainable params: 896\n",
            "_________________________________________________________________\n"
          ],
          "name": "stdout"
        }
      ]
    },
    {
      "cell_type": "code",
      "metadata": {
        "id": "f_odKUMCroE4"
      },
      "source": [
        "# plot_model(model, \"/content/model.png\", show_layer_names=True, show_shapes=True)\n",
        "# plot_model(cnn_model, \"/content/cnn_model.png\", show_layer_names=True, show_shapes=True)"
      ],
      "execution_count": null,
      "outputs": []
    },
    {
      "cell_type": "markdown",
      "metadata": {
        "id": "4OmIBiwH9nQu"
      },
      "source": [
        "# Model Training"
      ]
    },
    {
      "cell_type": "code",
      "metadata": {
        "id": "WMzmr1z6nDa3"
      },
      "source": [
        "INIT_LR = 0.0005\n",
        "EPOCHS = 25\n",
        "BATCH_SIZE = 16\n",
        "\n",
        "def poly_decay(epoch):\n",
        "  maxEpochs = EPOCHS\n",
        "  baseLR = INIT_LR\n",
        "  power = 1.0\n",
        "\n",
        "  alpha = baseLR * (1 - (epoch / float(maxEpochs))) ** power\n",
        "  return alpha\n",
        "\n",
        "callbacks = [LearningRateScheduler(poly_decay)]\n",
        "opt = Adam(lr=INIT_LR, amsgrad=True)"
      ],
      "execution_count": null,
      "outputs": []
    },
    {
      "cell_type": "code",
      "metadata": {
        "id": "dT0XWbb2x4m0"
      },
      "source": [
        "model.compile(loss=contrastive_loss, optimizer=opt)"
      ],
      "execution_count": null,
      "outputs": []
    },
    {
      "cell_type": "code",
      "metadata": {
        "id": "3CWVXS6tne4u",
        "colab": {
          "base_uri": "https://localhost:8080/"
        },
        "outputId": "6209fb6c-7f83-4d88-f50a-fa157b403aaa"
      },
      "source": [
        "%%time\n",
        "r = model.fit(\n",
        "  [pair_train[:, 0], pair_train[:, 1]], label_train[:],\n",
        "  validation_data = ([pair_val[:, 0], pair_val[:, 1]], label_val[:]),\n",
        "  batch_size=BATCH_SIZE, epochs=EPOCHS, callbacks=callbacks,\n",
        ")"
      ],
      "execution_count": null,
      "outputs": [
        {
          "output_type": "stream",
          "text": [
            "Epoch 1/25\n",
            "3291/3291 [==============================] - 32s 9ms/step - loss: 0.1061 - val_loss: 0.0863\n",
            "Epoch 2/25\n",
            "3291/3291 [==============================] - 30s 9ms/step - loss: 0.0564 - val_loss: 0.0702\n",
            "Epoch 3/25\n",
            "3291/3291 [==============================] - 30s 9ms/step - loss: 0.0468 - val_loss: 0.0543\n",
            "Epoch 4/25\n",
            "3291/3291 [==============================] - 30s 9ms/step - loss: 0.0448 - val_loss: 0.0454\n",
            "Epoch 5/25\n",
            "3291/3291 [==============================] - 31s 9ms/step - loss: 0.0435 - val_loss: 0.0276\n",
            "Epoch 6/25\n",
            "3291/3291 [==============================] - 31s 9ms/step - loss: 0.0381 - val_loss: 0.0228\n",
            "Epoch 7/25\n",
            "3291/3291 [==============================] - 30s 9ms/step - loss: 0.0331 - val_loss: 0.0296\n",
            "Epoch 8/25\n",
            "3291/3291 [==============================] - 30s 9ms/step - loss: 0.0331 - val_loss: 0.0317\n",
            "Epoch 9/25\n",
            "3291/3291 [==============================] - 30s 9ms/step - loss: 0.0312 - val_loss: 0.0256\n",
            "Epoch 10/25\n",
            "3291/3291 [==============================] - 30s 9ms/step - loss: 0.0286 - val_loss: 0.0206\n",
            "Epoch 11/25\n",
            "3291/3291 [==============================] - 30s 9ms/step - loss: 0.0254 - val_loss: 0.0233\n",
            "Epoch 12/25\n",
            "3291/3291 [==============================] - 30s 9ms/step - loss: 0.0243 - val_loss: 0.0188\n",
            "Epoch 13/25\n",
            "3291/3291 [==============================] - 30s 9ms/step - loss: 0.0229 - val_loss: 0.0180\n",
            "Epoch 14/25\n",
            "3291/3291 [==============================] - 30s 9ms/step - loss: 0.0220 - val_loss: 0.0168\n",
            "Epoch 15/25\n",
            "3291/3291 [==============================] - 30s 9ms/step - loss: 0.0199 - val_loss: 0.0151\n",
            "Epoch 16/25\n",
            "3291/3291 [==============================] - 30s 9ms/step - loss: 0.0190 - val_loss: 0.0166\n",
            "Epoch 17/25\n",
            "3291/3291 [==============================] - 30s 9ms/step - loss: 0.0186 - val_loss: 0.0159\n",
            "Epoch 18/25\n",
            "3291/3291 [==============================] - 30s 9ms/step - loss: 0.0167 - val_loss: 0.0147\n",
            "Epoch 19/25\n",
            "3291/3291 [==============================] - 30s 9ms/step - loss: 0.0164 - val_loss: 0.0150\n",
            "Epoch 20/25\n",
            "3291/3291 [==============================] - 30s 9ms/step - loss: 0.0165 - val_loss: 0.0136\n",
            "Epoch 21/25\n",
            "3291/3291 [==============================] - 30s 9ms/step - loss: 0.0147 - val_loss: 0.0131\n",
            "Epoch 22/25\n",
            "3291/3291 [==============================] - 30s 9ms/step - loss: 0.0145 - val_loss: 0.0125\n",
            "Epoch 23/25\n",
            "3291/3291 [==============================] - 30s 9ms/step - loss: 0.0134 - val_loss: 0.0126\n",
            "Epoch 24/25\n",
            "3291/3291 [==============================] - 30s 9ms/step - loss: 0.0138 - val_loss: 0.0125\n",
            "Epoch 25/25\n",
            "3291/3291 [==============================] - 30s 9ms/step - loss: 0.0124 - val_loss: 0.0124\n",
            "CPU times: user 11min 45s, sys: 2min 11s, total: 13min 57s\n",
            "Wall time: 12min 40s\n"
          ],
          "name": "stdout"
        }
      ]
    },
    {
      "cell_type": "code",
      "metadata": {
        "colab": {
          "base_uri": "https://localhost:8080/",
          "height": 431
        },
        "id": "wyAshhBq3RTx",
        "outputId": "c6f32c89-e5a3-425f-e8f9-6e2f26f2fc00"
      },
      "source": [
        "fig, ax = plt.subplots(figsize=(8,6))\n",
        "\n",
        "plt.xticks(np.arange(1,26, 4))\n",
        "\n",
        "ax.plot(np.arange(1, EPOCHS+1), r.history[\"loss\"], linestyle = '-', lw=2, label=\"Train Loss\", alpha=1, color=\"tab:red\")\n",
        "ax.plot(np.arange(1, EPOCHS+1), r.history[\"val_loss\"], linestyle = '-', lw=2, label=\"Val Loss\", alpha=1, color=\"tab:blue\")\n",
        "\n",
        "ax.set_xlabel('Epoch #')\n",
        "ax.set_ylabel('Loss')\n",
        "\n",
        "ax.yaxis.set_major_formatter(ScalarFormatter())\n",
        "ax.yaxis.major.formatter._useMathText = True\n",
        "ax.legend(frameon=True, loc='best',ncol=1, handlelength=2, framealpha=1, edgecolor=\"0.8\", fancybox=False)\n",
        "plt.grid(True, ls=\"--\", lw=0.8)\n",
        "\n",
        "plt.savefig('/content/training.png', dpi=300, transparent=False, bbox=\"tight\")\n",
        "plt.show()"
      ],
      "execution_count": null,
      "outputs": [
        {
          "output_type": "display_data",
          "data": {
            "image/png": "[encoded data removed]",
            "text/plain": [
              "<Figure size 576x432 with 1 Axes>"
            ]
          },
          "metadata": {
            "tags": [],
            "needs_background": "light"
          }
        }
      ]
    },
    {
      "cell_type": "markdown",
      "metadata": {
        "id": "kwFy_8Bg9qXZ"
      },
      "source": [
        "# Model Evaluation"
      ]
    },
    {
      "cell_type": "code",
      "metadata": {
        "id": "YsTm_kR5_0Rf",
        "colab": {
          "base_uri": "https://localhost:8080/"
        },
        "outputId": "de1a9aaf-3782-436d-97fd-7edb475fc6b9"
      },
      "source": [
        "model.evaluate([pair_test[:, 0], pair_test[:, 1]], label_test[:], batch_size=BATCH_SIZE)"
      ],
      "execution_count": null,
      "outputs": [
        {
          "output_type": "stream",
          "text": [
            "2316/2316 [==============================] - 7s 3ms/step - loss: 0.0243\n"
          ],
          "name": "stdout"
        },
        {
          "output_type": "execute_result",
          "data": {
            "text/plain": [
              "0.02425462193787098"
            ]
          },
          "metadata": {
            "tags": []
          },
          "execution_count": 47
        }
      ]
    },
    {
      "cell_type": "code",
      "metadata": {
        "id": "SYwqrwmNOyC1"
      },
      "source": [
        "model.save('/content/siamese_mi_channel_63-loss:{:.3f}.h5'.format(r.history['val_loss'][-1]))"
      ],
      "execution_count": null,
      "outputs": []
    },
    {
      "cell_type": "code",
      "metadata": {
        "id": "xDl2gZHM67A5"
      },
      "source": [
        "import json\n",
        "with open(\"/content/history-loss:{:.3f}.json\".format(r.history['val_loss'][-1]), \"w\") as f:\n",
        "  json.dump(str(r.history), f)"
      ],
      "execution_count": null,
      "outputs": []
    },
    {
      "cell_type": "markdown",
      "metadata": {
        "id": "Qvt02fki9uJ7"
      },
      "source": [
        "# Model Inference"
      ]
    },
    {
      "cell_type": "code",
      "metadata": {
        "id": "qr-IreLOKKI4"
      },
      "source": [
        "model = load_model(\"/content/siamese_mi_channel_63_loss_0.0134.h5\", custom_objects={\"contrastive_loss\": contrastive_loss})"
      ],
      "execution_count": null,
      "outputs": []
    },
    {
      "cell_type": "code",
      "metadata": {
        "id": "ehBwtIwqWE8f"
      },
      "source": [
        "preds = model.predict([pair_test[:, 0], pair_test[:, 1]])"
      ],
      "execution_count": null,
      "outputs": []
    },
    {
      "cell_type": "code",
      "metadata": {
        "id": "RH1xVj-pGWnY",
        "colab": {
          "base_uri": "https://localhost:8080/"
        },
        "outputId": "04019c6c-72c2-4e82-f578-ff4d7e9da8d7"
      },
      "source": [
        "avg_sim = []\n",
        "avg_nsim = []\n",
        "\n",
        "for i, j in enumerate(preds):\n",
        "  if i%2 == 0:\n",
        "    avg_sim.append(j[0])\n",
        "  else:\n",
        "    avg_nsim.append(j[0])\n",
        "\n",
        "threshold = (np.mean(avg_sim) + np.mean(avg_nsim))/2\n",
        "\n",
        "print(\"Similar: \", np.mean(avg_sim))\n",
        "print(\"Dissimilar: \", np.mean(avg_nsim))\n",
        "print(\"Threshold: \", threshold)"
      ],
      "execution_count": null,
      "outputs": [
        {
          "output_type": "stream",
          "text": [
            "Similar:  0.04298184\n",
            "Dissimilar:  0.9609575\n",
            "Threshold:  0.5019696950912476\n"
          ],
          "name": "stdout"
        }
      ]
    },
    {
      "cell_type": "markdown",
      "metadata": {
        "id": "DMJccl5H9wyE"
      },
      "source": [
        "# One Shot Task"
      ]
    },
    {
      "cell_type": "code",
      "metadata": {
        "id": "g_YgZiYMjj1v"
      },
      "source": [
        "def make_one_shot_task(x, y, n):\n",
        "  no_of_classes = len(np.unique(y))\n",
        "  support_set = np.zeros((n,2,36,54,1))\n",
        "  target_labels = []\n",
        "  subject_ids = np.arange(0, no_of_classes)\n",
        "\n",
        "  idx = [np.where(y == i)[0] for i in range(0, no_of_classes)]\n",
        "  \n",
        "  query_subject_id = np.random.choice(subject_ids)\n",
        "  query_subject_idxs = idx[query_subject_id]\n",
        "  query_subject_idx = np.random.choice(query_subject_idxs)\n",
        "  query_subject_signal = x[query_subject_idx]\n",
        "\n",
        "  pos_signal_idx = np.random.choice(query_subject_idxs[np.where(query_subject_idxs != query_subject_idx)])\n",
        "  pos_signal = x[pos_signal_idx]\n",
        "  support_set[0,0,:,:,:] = query_subject_signal\n",
        "  support_set[0,1,:,:,:] = pos_signal\n",
        "\n",
        "  neg_subject_ids = np.random.choice(subject_ids[np.where(subject_ids != query_subject_id)], n-1, replace=False)\n",
        "  for j in range(n-1):\n",
        "    neg_signal_idx = np.random.choice(idx[neg_subject_ids[j]])\n",
        "    neg_signal = x[neg_signal_idx]\n",
        "    support_set[j+1,0,:,:,:] = query_subject_signal\n",
        "    support_set[j+1,1,:,:,:] = neg_signal\n",
        "\n",
        "  return support_set\n",
        "\n",
        "def test_one_shot_task(model, k, n, x, y, dataset_type):\n",
        "  ccr = []\n",
        "  for i in range(k):\n",
        "    support_set = make_one_shot_task(x, y, n)\n",
        "    preds = model.predict([support_set[:,0], support_set[:,1]])\n",
        "    preds = np.reshape(preds, (preds.shape[0],))\n",
        "\n",
        "    if preds.min() == preds[0]:\n",
        "      ccr.append(1.0)\n",
        "\n",
        "  ccr_score = sum(ccr)/k\n",
        "  print(\"{} CCR Score of {} way 1 shot learning for {} trials = {:.3f}\".format(dataset_type, n, k, ccr_score))\n",
        "  return ccr_score"
      ],
      "execution_count": null,
      "outputs": []
    },
    {
      "cell_type": "code",
      "metadata": {
        "id": "HJUBmtv6j5Jh",
        "colab": {
          "base_uri": "https://localhost:8080/"
        },
        "outputId": "43e1b89f-d7cd-4221-8a1d-52de6c7733b2"
      },
      "source": [
        "N_WAY = 25\n",
        "\n",
        "test_ccrs = [test_one_shot_task(model, 500, f, x_test, y_test, \"Test\") for f in range(1,N_WAY+1,1)]\n",
        "# val_ccrs = [test_one_shot_task(model, 100, f, x_val, y_val, \"Validation\") for f in range(1, N_WAY+1,1)]"
      ],
      "execution_count": null,
      "outputs": [
        {
          "output_type": "stream",
          "text": [
            "Test CCR Score of 1 way 1 shot learning for 500 trials = 1.000\n",
            "Test CCR Score of 2 way 1 shot learning for 500 trials = 0.996\n",
            "Test CCR Score of 3 way 1 shot learning for 500 trials = 0.990\n",
            "Test CCR Score of 4 way 1 shot learning for 500 trials = 0.986\n",
            "Test CCR Score of 5 way 1 shot learning for 500 trials = 0.984\n",
            "Test CCR Score of 6 way 1 shot learning for 500 trials = 0.984\n",
            "Test CCR Score of 7 way 1 shot learning for 500 trials = 0.986\n",
            "Test CCR Score of 8 way 1 shot learning for 500 trials = 0.982\n",
            "Test CCR Score of 9 way 1 shot learning for 500 trials = 0.984\n",
            "Test CCR Score of 10 way 1 shot learning for 500 trials = 0.974\n",
            "Test CCR Score of 11 way 1 shot learning for 500 trials = 0.974\n",
            "Test CCR Score of 12 way 1 shot learning for 500 trials = 0.958\n",
            "Test CCR Score of 13 way 1 shot learning for 500 trials = 0.956\n",
            "Test CCR Score of 14 way 1 shot learning for 500 trials = 0.952\n",
            "Test CCR Score of 15 way 1 shot learning for 500 trials = 0.958\n",
            "Test CCR Score of 16 way 1 shot learning for 500 trials = 0.942\n",
            "Test CCR Score of 17 way 1 shot learning for 500 trials = 0.960\n",
            "Test CCR Score of 18 way 1 shot learning for 500 trials = 0.930\n",
            "Test CCR Score of 19 way 1 shot learning for 500 trials = 0.958\n",
            "Test CCR Score of 20 way 1 shot learning for 500 trials = 0.932\n",
            "Test CCR Score of 21 way 1 shot learning for 500 trials = 0.944\n",
            "Test CCR Score of 22 way 1 shot learning for 500 trials = 0.920\n",
            "Test CCR Score of 23 way 1 shot learning for 500 trials = 0.946\n",
            "Test CCR Score of 24 way 1 shot learning for 500 trials = 0.934\n",
            "Test CCR Score of 25 way 1 shot learning for 500 trials = 0.926\n"
          ],
          "name": "stdout"
        }
      ]
    },
    {
      "cell_type": "code",
      "metadata": {
        "id": "etWjXhK558_o"
      },
      "source": [
        "random_ccrs = [1/i for i in range(1, N_WAY+1,1)]"
      ],
      "execution_count": null,
      "outputs": []
    },
    {
      "cell_type": "code",
      "metadata": {
        "id": "Jx9fIeNHIQtU",
        "colab": {
          "base_uri": "https://localhost:8080/",
          "height": 319
        },
        "outputId": "03078152-320f-411e-f3cc-ae29df23ddf2"
      },
      "source": [
        "fig, ax = plt.subplots()\n",
        "\n",
        "plt.xticks(np.arange(1,N_WAY+1, 4))\n",
        "# plt.yticks(np.arange(0.9,1,0.01))\n",
        "\n",
        "ax.plot(np.arange(1, N_WAY+1), test_ccrs, linestyle = '-', lw=2, label=\"Test {} way One-Shot\".format(N_WAY), alpha=1, color=\"tab:blue\")\n",
        "ax.plot(np.arange(1, N_WAY+1), random_ccrs, linestyle = '-', lw=2, label=\"Random {} way One-Shot\".format(N_WAY), alpha=1, color=\"tab:red\")\n",
        "\n",
        "ax.set_xlabel('Size of Support Set')\n",
        "ax.set_ylabel('CCR')\n",
        "\n",
        "ax.yaxis.set_major_formatter(ScalarFormatter())\n",
        "ax.yaxis.major.formatter._useMathText = True\n",
        "ax.legend(frameon=True, loc='best',ncol=1, handlelength=2, framealpha=1, edgecolor=\"0.8\", fancybox=False)\n",
        "plt.grid(True, ls=\"--\", lw=0.8)\n",
        "\n",
        "plt.savefig('/content/one_shot.png', dpi=300, transparent=False, bbox=\"tight\")\n",
        "plt.show()"
      ],
      "execution_count": null,
      "outputs": [
        {
          "output_type": "display_data",
          "data": {
            "image/png": "[encoded data removed]",
            "text/plain": [
              "<Figure size 518.4x320.4 with 1 Axes>"
            ]
          },
          "metadata": {
            "tags": [],
            "needs_background": "light"
          }
        }
      ]
    },
    {
      "cell_type": "markdown",
      "metadata": {
        "id": "PUEAZDqPlciF"
      },
      "source": [
        "# Rank N Accuracy"
      ]
    },
    {
      "cell_type": "code",
      "metadata": {
        "id": "4MAFEyNFlftk"
      },
      "source": [
        "def rank_n_acc(x, y):\n",
        "  no_of_classes = len(np.unique(y))\n",
        "  idx = [np.where(y == i)[0] for i in range(0, no_of_classes)]\n",
        "\n",
        "  subjects_rank1 = []\n",
        "  subjects_rank5 = []\n",
        "  for i in range(no_of_classes):\n",
        "    success_count_1 = 0\n",
        "    success_count_5 = 0\n",
        "    count = 0\n",
        "  \n",
        "    for j in range(len(idx[i])):\n",
        "      query_x = x[idx[i][j]]\n",
        "      result = []\n",
        "      for k in range(no_of_classes):\n",
        "        subject_set = np.zeros((len(idx[k]), 2, 36, 54, 1))\n",
        "        if k == i:\n",
        "          subject_set = np.zeros((len(idx[k])-1, 2, 36, 54, 1))\n",
        "          \n",
        "        idx_count = 0  \n",
        "        for l in idx[k]:\n",
        "          if idx[i][j] != l:\n",
        "            subject_set[idx_count,0,:,:,:] = x[l]\n",
        "            subject_set[idx_count,1,:,:,:] = query_x\n",
        "            idx_count += 1\n",
        "\n",
        "        subject_result = np.mean(np.squeeze(model.predict([subject_set[:,0], subject_set[:, 1]]), axis = -1))\n",
        "        result.append((subject_result, k))\n",
        "\n",
        "      result.sort(key=lambda e: e[0])\n",
        "      top_5 = [ result[a][1] for a in range(5)]\n",
        "      if i in top_5:\n",
        "        success_count_5 += 1\n",
        "\n",
        "      top_1 = [ result[a][1] for a in range(1)]\n",
        "      if i in top_1:\n",
        "        success_count_1 += 1\n",
        "\n",
        "      count += 1\n",
        "    subjects_rank1.append(success_count_1/count)\n",
        "    subjects_rank5.append(success_count_5/count)\n",
        "    print(\"Rank_1: {:.4f} - Rank_5: {:.4f}\".format(success_count_1/count, success_count_5/count))\n",
        "  return subjects_rank1, subjects_rank5"
      ],
      "execution_count": null,
      "outputs": []
    },
    {
      "cell_type": "code",
      "metadata": {
        "id": "Y8Q-DsxHxCDM"
      },
      "source": [
        "subjects_rank1, subjects_rank5 = rank_n_acc(x_test, y_test)"
      ],
      "execution_count": null,
      "outputs": []
    },
    {
      "cell_type": "code",
      "metadata": {
        "colab": {
          "base_uri": "https://localhost:8080/"
        },
        "id": "kOSXNIuTjTAt",
        "outputId": "821b7544-3863-426c-88e7-632bf092394b"
      },
      "source": [
        "for i,(j,k) in enumerate(zip(subjects_rank1, subjects_rank5)):\n",
        "  print(\"Subject_id: {} - Rank_1: {:.4f} - Rank_5: {:.4f}\".format(i,j,k))"
      ],
      "execution_count": null,
      "outputs": [
        {
          "output_type": "stream",
          "text": [
            "Subject_id: 0 - Rank_1: 1.0000 - Rank_5: 1.0000\n",
            "Subject_id: 1 - Rank_1: 0.9487 - Rank_5: 1.0000\n",
            "Subject_id: 2 - Rank_1: 1.0000 - Rank_5: 1.0000\n",
            "Subject_id: 3 - Rank_1: 1.0000 - Rank_5: 1.0000\n",
            "Subject_id: 4 - Rank_1: 0.9744 - Rank_5: 1.0000\n",
            "Subject_id: 5 - Rank_1: 0.8974 - Rank_5: 1.0000\n",
            "Subject_id: 6 - Rank_1: 1.0000 - Rank_5: 1.0000\n",
            "Subject_id: 7 - Rank_1: 1.0000 - Rank_5: 1.0000\n",
            "Subject_id: 8 - Rank_1: 1.0000 - Rank_5: 1.0000\n",
            "Subject_id: 9 - Rank_1: 1.0000 - Rank_5: 1.0000\n",
            "Subject_id: 10 - Rank_1: 1.0000 - Rank_5: 1.0000\n",
            "Subject_id: 11 - Rank_1: 0.7436 - Rank_5: 1.0000\n",
            "Subject_id: 12 - Rank_1: 0.8205 - Rank_5: 1.0000\n",
            "Subject_id: 13 - Rank_1: 1.0000 - Rank_5: 1.0000\n",
            "Subject_id: 14 - Rank_1: 1.0000 - Rank_5: 1.0000\n",
            "Subject_id: 15 - Rank_1: 0.9487 - Rank_5: 1.0000\n",
            "Subject_id: 16 - Rank_1: 1.0000 - Rank_5: 1.0000\n",
            "Subject_id: 17 - Rank_1: 1.0000 - Rank_5: 1.0000\n",
            "Subject_id: 18 - Rank_1: 1.0000 - Rank_5: 1.0000\n",
            "Subject_id: 19 - Rank_1: 1.0000 - Rank_5: 1.0000\n",
            "Subject_id: 20 - Rank_1: 1.0000 - Rank_5: 1.0000\n",
            "Subject_id: 21 - Rank_1: 1.0000 - Rank_5: 1.0000\n",
            "Subject_id: 22 - Rank_1: 0.9744 - Rank_5: 1.0000\n",
            "Subject_id: 23 - Rank_1: 1.0000 - Rank_5: 1.0000\n",
            "Subject_id: 24 - Rank_1: 1.0000 - Rank_5: 1.0000\n"
          ],
          "name": "stdout"
        }
      ]
    },
    {
      "cell_type": "code",
      "metadata": {
        "colab": {
          "base_uri": "https://localhost:8080/"
        },
        "id": "lrhywWops6UB",
        "outputId": "e969bc92-1761-4b74-bf4e-4f34480d2786"
      },
      "source": [
        "print(np.mean(subjects_rank1), np.std(subjects_rank1))"
      ],
      "execution_count": null,
      "outputs": [
        {
          "output_type": "stream",
          "text": [
            "0.9723076923076923 0.061930375956720116\n"
          ],
          "name": "stdout"
        }
      ]
    },
    {
      "cell_type": "markdown",
      "metadata": {
        "id": "xee8M3NbfKYi"
      },
      "source": [
        "# FAR, FRR, HTER, EER, ROC"
      ]
    },
    {
      "cell_type": "code",
      "metadata": {
        "colab": {
          "base_uri": "https://localhost:8080/"
        },
        "id": "JgvY_aKuYI_4",
        "outputId": "6f5f21a3-d075-41b5-8317-716e1a3f3983"
      },
      "source": [
        "preds = 1.0 - np.squeeze(model.predict([pair_test[:, 0], pair_test[:, 1]]), axis=-1)\n",
        "far = []\n",
        "frr = []\n",
        "thresholds = np.arange(0,1.01, 0.01)\n",
        "for threshold in thresholds:\n",
        "  positive_count = 0\n",
        "  negative_count = 0\n",
        "  false_positive_count = 0\n",
        "  false_negative_count = 0\n",
        "  for i in range(len(label_test)):\n",
        "    # Actual Similar\n",
        "    if label_test[i] == 0:\n",
        "      positive_count += 1\n",
        "\n",
        "      # Predicting Dissimilar\n",
        "      if preds[i]<threshold:\n",
        "        false_negative_count += 1\n",
        "    # Actual Dissimilar\n",
        "    else:\n",
        "      negative_count += 1\n",
        "      # Predicting Similar\n",
        "      if preds[i]>=threshold:\n",
        "        false_positive_count += 1\n",
        "    \n",
        "  far.append(false_positive_count/negative_count)\n",
        "  frr.append(false_negative_count/positive_count)\n",
        "\n",
        "far = np.array(far)\n",
        "frr = np.array(frr)\n",
        "hter = (far+frr)/2.0\n",
        "\n",
        "diff = np.absolute(far-frr)\n",
        "\n",
        "eer_idx = np.argmin(diff)\n",
        "print(\"EER: \", (far[eer_idx] + frr[eer_idx])/2.0)"
      ],
      "execution_count": null,
      "outputs": [
        {
          "output_type": "stream",
          "text": [
            "EER:  0.031497975708502025\n"
          ],
          "name": "stdout"
        }
      ]
    },
    {
      "cell_type": "code",
      "metadata": {
        "colab": {
          "base_uri": "https://localhost:8080/",
          "height": 430
        },
        "id": "isBbIL23mlkS",
        "outputId": "99b16212-1689-45b5-cd47-92681b8548d8"
      },
      "source": [
        "fig, ax = plt.subplots()\n",
        "\n",
        "# plt.xticks(np.arange(1,N_WAY+1, 15))\n",
        "# plt.yticks(np.arange(0.9,1,0.01))\n",
        "\n",
        "ax.plot(thresholds, frr, linestyle = '-', lw=2, alpha=1, label=\"FRR\", color=\"tab:blue\")\n",
        "ax.plot(thresholds, far, linestyle = '-', lw=2, alpha=1, label=\"FAR\", color=\"tab:red\")\n",
        "\n",
        "ax.set_xlabel('Threshold')\n",
        "ax.set_ylabel('Probability')\n",
        "\n",
        "ax.yaxis.set_major_formatter(ScalarFormatter())\n",
        "ax.yaxis.major.formatter._useMathText = True\n",
        "ax.legend(frameon=True, loc='best',ncol=1, handlelength=2, framealpha=1, edgecolor=\"0.8\", fancybox=False)\n",
        "plt.grid(True, ls=\"--\", lw=0.8)\n",
        "\n",
        "plt.savefig('/content/far_frr.png', dpi=300, transparent=False, bbox=\"tight\")\n",
        "plt.show()"
      ],
      "execution_count": null,
      "outputs": [
        {
          "output_type": "display_data",
          "data": {
            "image/png": "[encoded data removed]",
            "text/plain": [
              "<Figure size 576x432 with 1 Axes>"
            ]
          },
          "metadata": {
            "tags": [],
            "needs_background": "light"
          }
        }
      ]
    },
    {
      "cell_type": "code",
      "metadata": {
        "colab": {
          "base_uri": "https://localhost:8080/",
          "height": 430
        },
        "id": "NvWu9WdogKHw",
        "outputId": "1f1e8fa9-d1a7-48ff-fe20-d1babd0d39d7"
      },
      "source": [
        "fig, ax = plt.subplots()\n",
        "\n",
        "# plt.xticks(np.arange(1,N_WAY+1, 15))\n",
        "\n",
        "ax.plot(thresholds, hter, linestyle = '-', lw=2, alpha=1, label=\"HTER\", color=\"tab:green\")\n",
        "\n",
        "ax.set_xlabel('Threshold')\n",
        "ax.set_ylabel('Probability')\n",
        "\n",
        "ax.yaxis.set_major_formatter(ScalarFormatter())\n",
        "ax.yaxis.major.formatter._useMathText = True\n",
        "ax.legend(frameon=True, loc='best',ncol=1, handlelength=2, framealpha=1, edgecolor=\"0.8\", fancybox=False)\n",
        "plt.grid(True, ls=\"--\", lw=0.8)\n",
        "\n",
        "plt.savefig('/content/hter.png', dpi=300, transparent=False, bbox=\"tight\")\n",
        "plt.show()"
      ],
      "execution_count": null,
      "outputs": [
        {
          "output_type": "display_data",
          "data": {
            "image/png": "[encoded data removed]",
            "text/plain": [
              "<Figure size 576x432 with 1 Axes>"
            ]
          },
          "metadata": {
            "tags": [],
            "needs_background": "light"
          }
        }
      ]
    },
    {
      "cell_type": "code",
      "metadata": {
        "colab": {
          "base_uri": "https://localhost:8080/",
          "height": 430
        },
        "id": "NsmcHtb2YfD5",
        "outputId": "387a8548-57cc-4807-8b4a-2cfad9e6115e"
      },
      "source": [
        "fig, ax = plt.subplots(figsize=(8,6))\n",
        "\n",
        "# plt.xticks(np.arange(1,N_WAY+1, 15))\n",
        "\n",
        "ax.plot(far, 1-np.array(frr), linestyle = '-', lw=2, alpha=1,label=\"ROC\", color=\"tab:orange\")\n",
        "# ax.plot(far, frr, linestyle = '-', lw=2, alpha=1,label=\"DET\", color=\"tab:red\")\n",
        "\n",
        "ax.set_xlabel('False Acceptance Rate (FAR)')\n",
        "ax.set_ylabel('True Acceptance Rate (TAR)')\n",
        "\n",
        "ax.yaxis.set_major_formatter(ScalarFormatter())\n",
        "ax.yaxis.major.formatter._useMathText = True\n",
        "ax.legend(frameon=True, loc='best',ncol=1, handlelength=2, framealpha=1, edgecolor=\"0.8\", fancybox=False)\n",
        "plt.grid(True, ls=\"--\", lw=0.8)\n",
        "\n",
        "plt.savefig('/content/roc.png', dpi=300, transparent=False, bbox=\"tight\")\n",
        "plt.show()"
      ],
      "execution_count": null,
      "outputs": [
        {
          "output_type": "display_data",
          "data": {
            "image/png": "[encoded data removed]",
            "text/plain": [
              "<Figure size 576x432 with 1 Axes>"
            ]
          },
          "metadata": {
            "tags": [],
            "needs_background": "light"
          }
        }
      ]
    },
    {
      "cell_type": "code",
      "metadata": {
        "colab": {
          "base_uri": "https://localhost:8080/"
        },
        "id": "uWDFzCYkt6ku",
        "outputId": "7aff92a9-0772-4fdf-be4f-c4e92a1dbd67"
      },
      "source": [
        "preds = np.round(np.squeeze(model.predict([pair_test[:, 0], pair_test[:, 1]]), axis=-1))\n",
        "\n",
        "target_names = ['Similar', 'Dissimilar']\n",
        "print(classification_report(label_test, preds, target_names=target_names))"
      ],
      "execution_count": null,
      "outputs": [
        {
          "output_type": "stream",
          "text": [
            "              precision    recall  f1-score   support\n",
            "\n",
            "     Similar       0.97      0.97      0.97     18525\n",
            "  Dissimilar       0.97      0.97      0.97     18525\n",
            "\n",
            "    accuracy                           0.97     37050\n",
            "   macro avg       0.97      0.97      0.97     37050\n",
            "weighted avg       0.97      0.97      0.97     37050\n",
            "\n"
          ],
          "name": "stdout"
        }
      ]
    },
    {
      "cell_type": "code",
      "metadata": {
        "id": "qA1rsl0kwmQz"
      },
      "source": [
        "def plot_confusion_matrix_custom(cm, classes, normalize=False, cmap='PuBuGn'):\n",
        "  # plt.figure(figsize=[8,8])\n",
        "  import itertools\n",
        "  plt.grid(b=None)\n",
        "  if normalize:\n",
        "      cm = cm.astype('float') / cm.sum(axis=1)[:, np.newaxis]\n",
        "      print(\"Normalized confusion matrix\")\n",
        "  else:\n",
        "      print('Confusion matrix, without normalization')\n",
        "\n",
        "  print(cm)\n",
        "\n",
        "  plt.imshow(cm, interpolation='nearest', cmap=cmap)\n",
        "  plt.colorbar()\n",
        "  tick_marks = np.arange(len(classes))\n",
        "  plt.xticks(tick_marks, classes, rotation=45)\n",
        "  plt.yticks(tick_marks, classes)\n",
        "\n",
        "  fmt = '.2f' if normalize else 'd'\n",
        "  thresh = cm.max() / 2.\n",
        "  for i, j in itertools.product(range(cm.shape[0]), range(cm.shape[1])):\n",
        "      plt.text(j, i, format(cm[i, j], fmt),\n",
        "                horizontalalignment=\"center\",\n",
        "                color=\"white\" if cm[i, j] > thresh else \"black\")\n",
        "\n",
        "  plt.ylabel('Ground Truth Label')\n",
        "  plt.xlabel('Predicted Label')\n",
        "  plt.tight_layout()\n",
        "  plt.grid(False)\n",
        "  plt.savefig('/content/cm.png', dpi=300, transparent=False, bbox=\"tight\")\n",
        "  plt.show()"
      ],
      "execution_count": null,
      "outputs": []
    },
    {
      "cell_type": "code",
      "metadata": {
        "colab": {
          "base_uri": "https://localhost:8080/",
          "height": 370
        },
        "id": "6uthb5iXxRoL",
        "outputId": "eb00b5d8-ff7e-4f3f-a192-d45538dfc247"
      },
      "source": [
        "from sklearn.metrics import confusion_matrix\n",
        "from mlxtend.plotting import plot_confusion_matrix\n",
        "\n",
        "confusion_matrix_output = confusion_matrix(label_test, preds)\n",
        "plot_confusion_matrix_custom(confusion_matrix_output, classes=target_names, cmap=\"PuBu\")"
      ],
      "execution_count": null,
      "outputs": [
        {
          "output_type": "stream",
          "text": [
            "Confusion matrix, without normalization\n",
            "[[18019   506]\n",
            " [  624 17901]]\n"
          ],
          "name": "stdout"
        },
        {
          "output_type": "display_data",
          "data": {
            "image/png": "[encoded data removed]",
            "text/plain": [
              "<Figure size 518.4x320.4 with 2 Axes>"
            ]
          },
          "metadata": {
            "tags": [],
            "needs_background": "light"
          }
        }
      ]
    },
    {
      "cell_type": "code",
      "metadata": {
        "id": "FjSYzInYxZtN"
      },
      "source": [
        ""
      ],
      "execution_count": null,
      "outputs": []
    }
  ]
}